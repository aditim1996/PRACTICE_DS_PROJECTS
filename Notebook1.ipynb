{
 "cells": [
  {
   "cell_type": "code",
   "execution_count": 2,
   "metadata": {},
   "outputs": [],
   "source": [
    "import pandas as pd\n",
    "import numpy as np\n",
    "from sklearn.linear_model import LinearRegression"
   ]
  },
  {
   "cell_type": "code",
   "execution_count": 3,
   "metadata": {},
   "outputs": [
    {
     "data": {
      "text/html": [
       "<div>\n",
       "<style scoped>\n",
       "    .dataframe tbody tr th:only-of-type {\n",
       "        vertical-align: middle;\n",
       "    }\n",
       "\n",
       "    .dataframe tbody tr th {\n",
       "        vertical-align: top;\n",
       "    }\n",
       "\n",
       "    .dataframe thead th {\n",
       "        text-align: right;\n",
       "    }\n",
       "</style>\n",
       "<table border=\"1\" class=\"dataframe\">\n",
       "  <thead>\n",
       "    <tr style=\"text-align: right;\">\n",
       "      <th></th>\n",
       "      <th>Price</th>\n",
       "      <th>Bedroom</th>\n",
       "      <th>Space</th>\n",
       "      <th>Room</th>\n",
       "      <th>Lot</th>\n",
       "      <th>Tax</th>\n",
       "      <th>Bathroom</th>\n",
       "      <th>Garage</th>\n",
       "      <th>Condition</th>\n",
       "    </tr>\n",
       "  </thead>\n",
       "  <tbody>\n",
       "    <tr>\n",
       "      <th>0</th>\n",
       "      <td>53.0</td>\n",
       "      <td>2.0</td>\n",
       "      <td>967.0</td>\n",
       "      <td>5.0</td>\n",
       "      <td>39.0</td>\n",
       "      <td>652.0</td>\n",
       "      <td>1.5</td>\n",
       "      <td>0.0</td>\n",
       "      <td>0.0</td>\n",
       "    </tr>\n",
       "    <tr>\n",
       "      <th>1</th>\n",
       "      <td>55.0</td>\n",
       "      <td>2.0</td>\n",
       "      <td>815.0</td>\n",
       "      <td>5.0</td>\n",
       "      <td>33.0</td>\n",
       "      <td>1000.0</td>\n",
       "      <td>1.0</td>\n",
       "      <td>2.0</td>\n",
       "      <td>1.0</td>\n",
       "    </tr>\n",
       "    <tr>\n",
       "      <th>2</th>\n",
       "      <td>56.0</td>\n",
       "      <td>3.0</td>\n",
       "      <td>900.0</td>\n",
       "      <td>5.0</td>\n",
       "      <td>35.0</td>\n",
       "      <td>897.0</td>\n",
       "      <td>1.5</td>\n",
       "      <td>1.0</td>\n",
       "      <td>0.0</td>\n",
       "    </tr>\n",
       "    <tr>\n",
       "      <th>3</th>\n",
       "      <td>58.0</td>\n",
       "      <td>3.0</td>\n",
       "      <td>1007.0</td>\n",
       "      <td>6.0</td>\n",
       "      <td>24.0</td>\n",
       "      <td>964.0</td>\n",
       "      <td>1.5</td>\n",
       "      <td>2.0</td>\n",
       "      <td>0.0</td>\n",
       "    </tr>\n",
       "    <tr>\n",
       "      <th>4</th>\n",
       "      <td>64.0</td>\n",
       "      <td>3.0</td>\n",
       "      <td>1100.0</td>\n",
       "      <td>7.0</td>\n",
       "      <td>50.0</td>\n",
       "      <td>1099.0</td>\n",
       "      <td>1.5</td>\n",
       "      <td>1.5</td>\n",
       "      <td>0.0</td>\n",
       "    </tr>\n",
       "  </tbody>\n",
       "</table>\n",
       "</div>"
      ],
      "text/plain": [
       "   Price  Bedroom   Space  Room   Lot     Tax  Bathroom  Garage  Condition\n",
       "0   53.0      2.0   967.0   5.0  39.0   652.0       1.5     0.0        0.0\n",
       "1   55.0      2.0   815.0   5.0  33.0  1000.0       1.0     2.0        1.0\n",
       "2   56.0      3.0   900.0   5.0  35.0   897.0       1.5     1.0        0.0\n",
       "3   58.0      3.0  1007.0   6.0  24.0   964.0       1.5     2.0        0.0\n",
       "4   64.0      3.0  1100.0   7.0  50.0  1099.0       1.5     1.5        0.0"
      ]
     },
     "execution_count": 3,
     "metadata": {},
     "output_type": "execute_result"
    }
   ],
   "source": [
    "df = pd.read_csv('realest.csv')\n",
    "df.head()"
   ]
  },
  {
   "cell_type": "code",
   "execution_count": 4,
   "metadata": {},
   "outputs": [
    {
     "name": "stdout",
     "output_type": "stream",
     "text": [
      "<class 'pandas.core.frame.DataFrame'>\n",
      "RangeIndex: 157 entries, 0 to 156\n",
      "Data columns (total 9 columns):\n",
      " #   Column     Non-Null Count  Dtype  \n",
      "---  ------     --------------  -----  \n",
      " 0   Price      156 non-null    float64\n",
      " 1   Bedroom    156 non-null    float64\n",
      " 2   Space      146 non-null    float64\n",
      " 3   Room       156 non-null    float64\n",
      " 4   Lot        146 non-null    float64\n",
      " 5   Tax        147 non-null    float64\n",
      " 6   Bathroom   156 non-null    float64\n",
      " 7   Garage     156 non-null    float64\n",
      " 8   Condition  156 non-null    float64\n",
      "dtypes: float64(9)\n",
      "memory usage: 11.2 KB\n"
     ]
    }
   ],
   "source": [
    "df.info()"
   ]
  },
  {
   "cell_type": "code",
   "execution_count": 5,
   "metadata": {},
   "outputs": [
    {
     "data": {
      "text/html": [
       "<div>\n",
       "<style scoped>\n",
       "    .dataframe tbody tr th:only-of-type {\n",
       "        vertical-align: middle;\n",
       "    }\n",
       "\n",
       "    .dataframe tbody tr th {\n",
       "        vertical-align: top;\n",
       "    }\n",
       "\n",
       "    .dataframe thead th {\n",
       "        text-align: right;\n",
       "    }\n",
       "</style>\n",
       "<table border=\"1\" class=\"dataframe\">\n",
       "  <thead>\n",
       "    <tr style=\"text-align: right;\">\n",
       "      <th></th>\n",
       "      <th>Price</th>\n",
       "      <th>Bedroom</th>\n",
       "      <th>Space</th>\n",
       "      <th>Room</th>\n",
       "      <th>Lot</th>\n",
       "      <th>Tax</th>\n",
       "      <th>Bathroom</th>\n",
       "      <th>Garage</th>\n",
       "      <th>Condition</th>\n",
       "    </tr>\n",
       "  </thead>\n",
       "  <tbody>\n",
       "    <tr>\n",
       "      <th>count</th>\n",
       "      <td>156.000000</td>\n",
       "      <td>156.000000</td>\n",
       "      <td>146.000000</td>\n",
       "      <td>156.000000</td>\n",
       "      <td>146.000000</td>\n",
       "      <td>147.000000</td>\n",
       "      <td>156.000000</td>\n",
       "      <td>156.000000</td>\n",
       "      <td>156.000000</td>\n",
       "    </tr>\n",
       "    <tr>\n",
       "      <th>mean</th>\n",
       "      <td>56.474359</td>\n",
       "      <td>3.166667</td>\n",
       "      <td>1097.246575</td>\n",
       "      <td>6.500000</td>\n",
       "      <td>32.808219</td>\n",
       "      <td>911.707483</td>\n",
       "      <td>1.480769</td>\n",
       "      <td>0.846154</td>\n",
       "      <td>0.230769</td>\n",
       "    </tr>\n",
       "    <tr>\n",
       "      <th>std</th>\n",
       "      <td>12.875307</td>\n",
       "      <td>1.348037</td>\n",
       "      <td>462.540698</td>\n",
       "      <td>1.675247</td>\n",
       "      <td>8.457859</td>\n",
       "      <td>443.263430</td>\n",
       "      <td>0.529408</td>\n",
       "      <td>0.808454</td>\n",
       "      <td>0.422682</td>\n",
       "    </tr>\n",
       "    <tr>\n",
       "      <th>min</th>\n",
       "      <td>32.000000</td>\n",
       "      <td>1.000000</td>\n",
       "      <td>539.000000</td>\n",
       "      <td>4.000000</td>\n",
       "      <td>24.000000</td>\n",
       "      <td>418.000000</td>\n",
       "      <td>1.000000</td>\n",
       "      <td>0.000000</td>\n",
       "      <td>0.000000</td>\n",
       "    </tr>\n",
       "    <tr>\n",
       "      <th>25%</th>\n",
       "      <td>46.000000</td>\n",
       "      <td>2.000000</td>\n",
       "      <td>805.250000</td>\n",
       "      <td>5.000000</td>\n",
       "      <td>25.000000</td>\n",
       "      <td>652.500000</td>\n",
       "      <td>1.000000</td>\n",
       "      <td>0.000000</td>\n",
       "      <td>0.000000</td>\n",
       "    </tr>\n",
       "    <tr>\n",
       "      <th>50%</th>\n",
       "      <td>55.000000</td>\n",
       "      <td>3.000000</td>\n",
       "      <td>965.500000</td>\n",
       "      <td>6.000000</td>\n",
       "      <td>30.000000</td>\n",
       "      <td>821.000000</td>\n",
       "      <td>1.500000</td>\n",
       "      <td>1.000000</td>\n",
       "      <td>0.000000</td>\n",
       "    </tr>\n",
       "    <tr>\n",
       "      <th>75%</th>\n",
       "      <td>65.000000</td>\n",
       "      <td>4.000000</td>\n",
       "      <td>1220.500000</td>\n",
       "      <td>7.000000</td>\n",
       "      <td>37.000000</td>\n",
       "      <td>1012.500000</td>\n",
       "      <td>2.000000</td>\n",
       "      <td>1.500000</td>\n",
       "      <td>0.000000</td>\n",
       "    </tr>\n",
       "    <tr>\n",
       "      <th>max</th>\n",
       "      <td>90.000000</td>\n",
       "      <td>8.000000</td>\n",
       "      <td>2295.000000</td>\n",
       "      <td>12.000000</td>\n",
       "      <td>50.000000</td>\n",
       "      <td>2752.000000</td>\n",
       "      <td>3.000000</td>\n",
       "      <td>2.000000</td>\n",
       "      <td>1.000000</td>\n",
       "    </tr>\n",
       "  </tbody>\n",
       "</table>\n",
       "</div>"
      ],
      "text/plain": [
       "            Price     Bedroom        Space  ...    Bathroom      Garage   Condition\n",
       "count  156.000000  156.000000   146.000000  ...  156.000000  156.000000  156.000000\n",
       "mean    56.474359    3.166667  1097.246575  ...    1.480769    0.846154    0.230769\n",
       "std     12.875307    1.348037   462.540698  ...    0.529408    0.808454    0.422682\n",
       "min     32.000000    1.000000   539.000000  ...    1.000000    0.000000    0.000000\n",
       "25%     46.000000    2.000000   805.250000  ...    1.000000    0.000000    0.000000\n",
       "50%     55.000000    3.000000   965.500000  ...    1.500000    1.000000    0.000000\n",
       "75%     65.000000    4.000000  1220.500000  ...    2.000000    1.500000    0.000000\n",
       "max     90.000000    8.000000  2295.000000  ...    3.000000    2.000000    1.000000\n",
       "\n",
       "[8 rows x 9 columns]"
      ]
     },
     "execution_count": 5,
     "metadata": {},
     "output_type": "execute_result"
    }
   ],
   "source": [
    "df.describe()"
   ]
  },
  {
   "cell_type": "code",
   "execution_count": 6,
   "metadata": {},
   "outputs": [
    {
     "data": {
      "text/plain": [
       "Price         1\n",
       "Bedroom       1\n",
       "Space        11\n",
       "Room          1\n",
       "Lot          11\n",
       "Tax          10\n",
       "Bathroom      1\n",
       "Garage        1\n",
       "Condition     1\n",
       "dtype: int64"
      ]
     },
     "execution_count": 6,
     "metadata": {},
     "output_type": "execute_result"
    }
   ],
   "source": [
    "df.isna().sum()"
   ]
  },
  {
   "cell_type": "code",
   "execution_count": 7,
   "metadata": {},
   "outputs": [
    {
     "data": {
      "text/plain": [
       "Price         0\n",
       "Bedroom       0\n",
       "Space        10\n",
       "Room          0\n",
       "Lot          10\n",
       "Tax           9\n",
       "Bathroom      0\n",
       "Garage        0\n",
       "Condition     0\n",
       "dtype: int64"
      ]
     },
     "execution_count": 7,
     "metadata": {},
     "output_type": "execute_result"
    }
   ],
   "source": [
    "#dropping single value using dropna\n",
    "df_new = df.copy()\n",
    "cols = ['Price','Bedroom','Room','Bathroom','Garage','Condition']\n",
    "df_new = df_new.dropna(subset=cols)\n",
    "df_new.isna().sum()"
   ]
  },
  {
   "cell_type": "code",
   "execution_count": 8,
   "metadata": {},
   "outputs": [],
   "source": [
    "col = ['Space','Lot','Tax']\n",
    "df_final = df_new.copy()\n",
    "df_final[col] = df_final[col].fillna(-999)\n"
   ]
  },
  {
   "cell_type": "code",
   "execution_count": 9,
   "metadata": {},
   "outputs": [
    {
     "data": {
      "text/plain": [
       "Price        0\n",
       "Bedroom      0\n",
       "Space        0\n",
       "Room         0\n",
       "Lot          0\n",
       "Tax          0\n",
       "Bathroom     0\n",
       "Garage       0\n",
       "Condition    0\n",
       "dtype: int64"
      ]
     },
     "execution_count": 9,
     "metadata": {},
     "output_type": "execute_result"
    }
   ],
   "source": [
    "df_final.isna().sum()"
   ]
  },
  {
   "cell_type": "code",
   "execution_count": 12,
   "metadata": {},
   "outputs": [
    {
     "data": {
      "text/plain": [
       "Price        1.000000\n",
       "Room         0.578480\n",
       "Garage       0.553105\n",
       "Bathroom     0.538485\n",
       "Space        0.443076\n",
       "Tax          0.395465\n",
       "Bedroom      0.302451\n",
       "Condition    0.079336\n",
       "Lot          0.062433\n",
       "Name: Price, dtype: float64"
      ]
     },
     "execution_count": 12,
     "metadata": {},
     "output_type": "execute_result"
    }
   ],
   "source": [
    "#finding covariance with Price column to understand the realtionship with other features in dataframe\n",
    "\n",
    "price_corr = df_final.corr()['Price']\n",
    "price_corr_sorted = price_corr.sort_values(ascending=False)\n",
    "price_corr_sorted"
   ]
  },
  {
   "cell_type": "code",
   "execution_count": 13,
   "metadata": {},
   "outputs": [],
   "source": [
    "## We found out that Room,Garage,Bathroom & Space are the most correlated features to the traget variable as Prices of chicago houses."
   ]
  },
  {
   "cell_type": "code",
   "execution_count": 14,
   "metadata": {},
   "outputs": [],
   "source": [
    "## Train - test split & fiting linear regression model \n",
    "features = ['Room','Garage','Bathroom','Space','Tax','Bedroom','Condition','Lot']\n",
    "X = df_final.loc[:,features]\n",
    "y = df_final.loc[:,['Price']]\n"
   ]
  },
  {
   "cell_type": "code",
   "execution_count": 15,
   "metadata": {},
   "outputs": [
    {
     "name": "stdout",
     "output_type": "stream",
     "text": [
      "Training set X: (124, 8) y: (124, 1)\n",
      "Testing set X: (124, 8) y: (124, 1)\n"
     ]
    }
   ],
   "source": [
    "df_final_shuffle = df_final.sample(frac=1, random_state=42).reset_index(drop=True)\n",
    "split_ratio = 0.8\n",
    "split_index = int(len(df_final_shuffle) * split_ratio)\n",
    "\n",
    "X_train = X.iloc[:split_index,:]\n",
    "X_test = X.iloc[:split_index,:]\n",
    "y_train = y.iloc[:split_index,:]\n",
    "y_test = y.iloc[:split_index,:]\n",
    "\n",
    "# Display the shapes of the datasets\n",
    "print(\"Training set X:\", X_train.shape, \"y:\", y_train.shape)\n",
    "print(\"Testing set X:\", X_test.shape, \"y:\", y_test.shape)"
   ]
  },
  {
   "cell_type": "code",
   "execution_count": 19,
   "metadata": {},
   "outputs": [
    {
     "name": "stdout",
     "output_type": "stream",
     "text": [
      "Mean Squared Error (manual calculation with NumPy): 55.34\n"
     ]
    }
   ],
   "source": [
    "# fiting the model\n",
    "\n",
    "model = LinearRegression()\n",
    "model.fit(X_train,y_train)\n",
    "\n",
    "y_pred = model.predict(X_test)\n",
    "\n",
    "residuals = y_test.values.flatten() - y_pred.flatten()\n",
    "\n",
    "mse = np.mean(residuals ** 2)\n",
    "\n"
   ]
  },
  {
   "cell_type": "code",
   "execution_count": 18,
   "metadata": {},
   "outputs": [
    {
     "name": "stdout",
     "output_type": "stream",
     "text": [
      "Mean Squared Error (manual calculation): 55.34\n",
      "\n",
      "Predictions vs Actual Values:\n",
      "Predicted Price      Actual Price         Difference          \n",
      "------------------------------------------------------------\n",
      "49.81                53.00                -3.19               \n",
      "58.21                55.00                3.21                \n",
      "51.94                56.00                -4.06               \n",
      "62.13                58.00                4.13                \n",
      "65.00                64.00                1.00                \n",
      "60.27                44.00                16.27               \n",
      "52.19                49.00                3.19                \n",
      "71.36                70.00                1.36                \n",
      "62.89                72.00                -9.11               \n",
      "75.49                82.00                -6.51               \n",
      "81.78                85.00                -3.22               \n",
      "46.91                45.00                1.91                \n",
      "46.18                47.00                -0.82               \n",
      "50.56                49.00                1.56                \n",
      "59.08                56.00                3.08                \n",
      "47.08                60.00                -12.92              \n",
      "58.45                62.00                -3.55               \n",
      "59.62                64.00                -4.38               \n",
      "55.47                66.00                -10.53              \n",
      "50.12                35.00                15.12               \n",
      "45.29                38.00                7.29                \n",
      "32.20                43.00                -10.80              \n",
      "46.64                46.00                0.64                \n",
      "52.01                46.00                6.01                \n",
      "59.84                50.00                9.84                \n",
      "64.44                65.00                -0.56               \n",
      "53.85                54.00                -0.15               \n",
      "62.53                58.00                4.53                \n",
      "56.30                58.00                -1.70               \n",
      "62.21                61.00                1.21                \n",
      "65.22                62.00                3.22                \n",
      "64.33                46.00                18.33               \n",
      "56.27                49.00                7.27                \n",
      "71.45                70.00                1.45                \n",
      "59.58                72.00                -12.42              \n",
      "71.63                81.00                -9.37               \n",
      "81.77                88.00                -6.23               \n",
      "42.72                45.00                -2.28               \n",
      "46.01                47.00                -0.99               \n",
      "54.93                47.00                7.93                \n",
      "54.66                55.00                -0.34               \n",
      "51.21                61.00                -9.79               \n",
      "62.55                64.00                -1.45               \n",
      "68.38                65.00                3.38                \n",
      "55.62                64.00                -8.38               \n",
      "45.81                35.00                10.81               \n",
      "41.33                36.00                5.33                \n",
      "45.93                42.00                3.93                \n",
      "42.14                48.00                -5.86               \n",
      "48.36                45.00                3.36                \n",
      "59.74                53.00                6.74                \n",
      "64.32                66.00                -1.68               \n",
      "45.58                50.00                -4.42               \n",
      "53.85                57.00                -3.15               \n",
      "56.19                59.00                -2.81               \n",
      "62.32                56.00                6.32                \n",
      "57.56                65.00                -7.44               \n",
      "60.26                44.00                16.26               \n",
      "57.43                51.00                6.43                \n",
      "75.36                70.00                5.36                \n",
      "68.20                70.00                -1.80               \n",
      "80.07                84.00                -3.93               \n",
      "86.31                85.00                1.31                \n",
      "42.34                45.00                -2.66               \n",
      "42.28                47.00                -4.72               \n",
      "46.25                52.00                -5.75               \n",
      "63.55                55.00                8.55                \n",
      "42.60                61.00                -18.40              \n",
      "57.81                65.00                -7.19               \n",
      "68.57                66.00                2.57                \n",
      "59.45                69.00                -9.55               \n",
      "49.85                34.00                15.85               \n",
      "49.47                39.00                10.47               \n",
      "40.89                44.00                -3.11               \n",
      "42.52                43.00                -0.48               \n",
      "48.11                43.00                5.11                \n",
      "55.81                53.00                2.81                \n",
      "60.00                63.00                -3.00               \n",
      "49.94                54.00                -4.06               \n",
      "47.09                52.00                -4.91               \n",
      "51.86                56.00                -4.14               \n",
      "62.04                55.00                7.04                \n",
      "65.11                66.00                -0.89               \n",
      "60.42                41.00                19.42               \n",
      "53.29                51.00                2.29                \n",
      "63.96                71.00                -7.04               \n",
      "63.99                73.00                -9.01               \n",
      "75.39                80.00                -4.61               \n",
      "81.80                88.00                -6.20               \n",
      "47.10                47.00                0.10                \n",
      "45.99                50.00                -4.01               \n",
      "50.65                52.00                -1.35               \n",
      "59.10                58.00                1.10                \n",
      "47.12                59.00                -11.88              \n",
      "58.42                62.00                -3.58               \n",
      "63.47                61.00                2.47                \n",
      "55.51                67.00                -11.49              \n",
      "50.14                34.00                16.14               \n",
      "45.14                36.00                9.14                \n",
      "42.14                46.00                -3.86               \n",
      "46.59                46.00                0.59                \n",
      "52.04                47.00                5.04                \n",
      "59.82                51.00                8.82                \n",
      "64.38                65.00                -0.62               \n",
      "54.06                55.00                -0.94               \n",
      "62.54                61.00                1.54                \n",
      "56.16                58.00                -1.84               \n",
      "62.25                64.00                -1.75               \n",
      "65.31                63.00                2.31                \n",
      "64.46                45.00                19.46               \n",
      "57.56                49.00                8.56                \n",
      "71.71                73.00                -1.29               \n",
      "54.41                70.00                -15.59              \n",
      "71.57                81.00                -9.43               \n",
      "81.79                90.00                -8.21               \n",
      "42.65                44.00                -1.35               \n",
      "45.98                44.00                1.98                \n",
      "55.03                44.00                11.03               \n",
      "54.34                57.00                -2.66               \n",
      "51.18                63.00                -11.82              \n",
      "62.56                65.00                -2.44               \n",
      "59.73                68.00                -8.27               \n",
      "55.91                63.00                -7.09               \n",
      "45.88                37.00                8.88                \n"
     ]
    }
   ],
   "source": [
    "# Print the Mean Squared Error\n",
    "print(f\"Mean Squared Error (manual calculation): {mse:.2f}\")\n",
    "\n",
    "# Print predictions and actual values in a formatted way\n",
    "print(\"\\nPredictions vs Actual Values:\")\n",
    "print(f\"{'Predicted Price':<20} {'Actual Price':<20} {'Difference':<20}\")\n",
    "print(\"-\" * 60)\n",
    "\n",
    "# Print each predicted value alongside the actual value and their difference\n",
    "for predicted, actual in zip(y_pred.flatten(), y_test.values.flatten()):\n",
    "    difference = predicted - actual\n",
    "    print(f\"{predicted:<20.2f} {actual:<20.2f} {difference:<20.2f}\")"
   ]
  },
  {
   "cell_type": "code",
   "execution_count": null,
   "metadata": {},
   "outputs": [],
   "source": []
  }
 ],
 "metadata": {
  "kernelspec": {
   "display_name": "Python 3",
   "language": "python",
   "name": "python3"
  },
  "language_info": {
   "codemirror_mode": {
    "name": "ipython",
    "version": 3
   },
   "file_extension": ".py",
   "mimetype": "text/x-python",
   "name": "python",
   "nbconvert_exporter": "python",
   "pygments_lexer": "ipython3",
   "version": "3.9.1"
  }
 },
 "nbformat": 4,
 "nbformat_minor": 2
}
